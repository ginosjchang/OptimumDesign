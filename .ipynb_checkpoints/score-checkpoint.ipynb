{
 "cells": [
  {
   "cell_type": "code",
   "execution_count": 8,
   "metadata": {},
   "outputs": [
    {
     "data": {
      "image/png": "[encoded data removed]",
      "text/plain": [
       "<Figure size 432x288 with 1 Axes>"
      ]
     },
     "metadata": {
      "needs_background": "light"
     },
     "output_type": "display_data"
    }
   ],
   "source": [
    "import matplotlib.pyplot as plt\n",
    "import numpy as np\n",
    "x = np.arange(5)\n",
    "\n",
    "gd_count = [0, 0, 37, 5, 58]\n",
    "fr_count = [0, 2, 24, 55, 19]\n",
    "nm_count = [0, 1, 18, 60, 21]\n",
    "\n",
    "width = 0.3\n",
    "\n",
    "plt.bar(x, gd_count, width=width, label='GD')\n",
    "plt.bar(x + width, fr_count, width=width, label=\"FR\")\n",
    "plt.bar(x + 2 * width, nm_count, width=width, label=\"NM\")\n",
    "plt.xticks(x + width / 3, x)\n",
    "plt.ylabel('')\n",
    "plt.xlabel('')\n",
    "plt.title('Correct')\n",
    "plt.legend(bbox_to_anchor=(1,1), loc='upper left')\n",
    "plt.show()"
   ]
  },
  {
   "cell_type": "code",
   "execution_count": 9,
   "metadata": {},
   "outputs": [
    {
     "data": {
      "text/plain": [
       "1.0"
      ]
     },
     "execution_count": 9,
     "metadata": {},
     "output_type": "execute_result"
    }
   ],
   "source": [
    "np.mean([1])"
   ]
  },
  {
   "cell_type": "code",
   "execution_count": null,
   "metadata": {},
   "outputs": [],
   "source": []
  }
 ],
 "metadata": {
  "kernelspec": {
   "display_name": "Python 3 (ipykernel)",
   "language": "python",
   "name": "python3"
  },
  "language_info": {
   "codemirror_mode": {
    "name": "ipython",
    "version": 3
   },
   "file_extension": ".py",
   "mimetype": "text/x-python",
   "name": "python",
   "nbconvert_exporter": "python",
   "pygments_lexer": "ipython3",
   "version": "3.8.10"
  }
 },
 "nbformat": 4,
 "nbformat_minor": 4
}
